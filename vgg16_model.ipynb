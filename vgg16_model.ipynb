{
 "cells": [
  {
   "cell_type": "code",
   "execution_count": 1,
   "metadata": {},
   "outputs": [],
   "source": [
    "# import the libraries as shown below\n",
    "import numpy as np\n",
    "import tensorflow as tf\n",
    "from tensorflow.keras.applications.vgg16 import VGG16\n",
    "from tensorflow.keras.preprocessing.image import ImageDataGenerator\n",
    "from tensorflow.keras.layers import Dense, Flatten\n",
    "from tensorflow.keras.models import Model\n",
    "from tensorflow.keras.optimizers import Adam"
   ]
  },
  {
   "cell_type": "code",
   "execution_count": 2,
   "metadata": {},
   "outputs": [],
   "source": [
    "# Define image size and batch size\n",
    "img_size = (224, 224)\n",
    "batch_size = 32"
   ]
  },
  {
   "cell_type": "code",
   "execution_count": 3,
   "metadata": {},
   "outputs": [
    {
     "name": "stdout",
     "output_type": "stream",
     "text": [
      "Found 11983 images belonging to 17 classes.\n"
     ]
    }
   ],
   "source": [
    "# Data Preprocessing\n",
    "# Training Image Processing\n",
    "\n",
    "train_datagen = ImageDataGenerator(\n",
    "    rescale=1./255,\n",
    "    shear_range=0.2,\n",
    "    zoom_range=0.2,\n",
    "    horizontal_flip=True\n",
    ")\n",
    "\n",
    "training_set = train_datagen.flow_from_directory(\n",
    "    'train',target_size=(224,224),batch_size=32,class_mode='categorical')"
   ]
  },
  {
   "cell_type": "code",
   "execution_count": 4,
   "metadata": {},
   "outputs": [
    {
     "name": "stdout",
     "output_type": "stream",
     "text": [
      "Found 3986 images belonging to 17 classes.\n"
     ]
    }
   ],
   "source": [
    "# Test Image Processing \n",
    "\n",
    "test_datagen = ImageDataGenerator(rescale=1./255)\n",
    "\n",
    "test_set =test_datagen.flow_from_directory('valid',target_size=(224,224),batch_size=32,class_mode='categorical')"
   ]
  },
  {
   "cell_type": "code",
   "execution_count": 5,
   "metadata": {},
   "outputs": [],
   "source": [
    "# Load pre-trained VGG16 model\n",
    "vgg = VGG16(include_top=False, input_shape=(224, 224, 3))"
   ]
  },
  {
   "cell_type": "code",
   "execution_count": 6,
   "metadata": {},
   "outputs": [],
   "source": [
    "# Freeze pre-trained layers\n",
    "for layer in vgg.layers:\n",
    "    layer.trainable = False"
   ]
  },
  {
   "cell_type": "code",
   "execution_count": 7,
   "metadata": {},
   "outputs": [],
   "source": [
    "# Add new trainable layers\n",
    "x = Flatten()(vgg.output)\n",
    "x = Dense(128, activation='relu')(x)\n",
    "x = Dense(17, activation='softmax')(x)"
   ]
  },
  {
   "cell_type": "code",
   "execution_count": 8,
   "metadata": {},
   "outputs": [],
   "source": [
    "# Create custom model\n",
    "model = Model(inputs=vgg.input, outputs=x)"
   ]
  },
  {
   "cell_type": "code",
   "execution_count": 9,
   "metadata": {},
   "outputs": [
    {
     "name": "stdout",
     "output_type": "stream",
     "text": [
      "Model: \"model\"\n",
      "_________________________________________________________________\n",
      " Layer (type)                Output Shape              Param #   \n",
      "=================================================================\n",
      " input_1 (InputLayer)        [(None, 224, 224, 3)]     0         \n",
      "                                                                 \n",
      " block1_conv1 (Conv2D)       (None, 224, 224, 64)      1792      \n",
      "                                                                 \n",
      " block1_conv2 (Conv2D)       (None, 224, 224, 64)      36928     \n",
      "                                                                 \n",
      " block1_pool (MaxPooling2D)  (None, 112, 112, 64)      0         \n",
      "                                                                 \n",
      " block2_conv1 (Conv2D)       (None, 112, 112, 128)     73856     \n",
      "                                                                 \n",
      " block2_conv2 (Conv2D)       (None, 112, 112, 128)     147584    \n",
      "                                                                 \n",
      " block2_pool (MaxPooling2D)  (None, 56, 56, 128)       0         \n",
      "                                                                 \n",
      " block3_conv1 (Conv2D)       (None, 56, 56, 256)       295168    \n",
      "                                                                 \n",
      " block3_conv2 (Conv2D)       (None, 56, 56, 256)       590080    \n",
      "                                                                 \n",
      " block3_conv3 (Conv2D)       (None, 56, 56, 256)       590080    \n",
      "                                                                 \n",
      " block3_pool (MaxPooling2D)  (None, 28, 28, 256)       0         \n",
      "                                                                 \n",
      " block4_conv1 (Conv2D)       (None, 28, 28, 512)       1180160   \n",
      "                                                                 \n",
      " block4_conv2 (Conv2D)       (None, 28, 28, 512)       2359808   \n",
      "                                                                 \n",
      " block4_conv3 (Conv2D)       (None, 28, 28, 512)       2359808   \n",
      "                                                                 \n",
      " block4_pool (MaxPooling2D)  (None, 14, 14, 512)       0         \n",
      "                                                                 \n",
      " block5_conv1 (Conv2D)       (None, 14, 14, 512)       2359808   \n",
      "                                                                 \n",
      " block5_conv2 (Conv2D)       (None, 14, 14, 512)       2359808   \n",
      "                                                                 \n",
      " block5_conv3 (Conv2D)       (None, 14, 14, 512)       2359808   \n",
      "                                                                 \n",
      " block5_pool (MaxPooling2D)  (None, 7, 7, 512)         0         \n",
      "                                                                 \n",
      " flatten (Flatten)           (None, 25088)             0         \n",
      "                                                                 \n",
      " dense (Dense)               (None, 128)               3211392   \n",
      "                                                                 \n",
      " dense_1 (Dense)             (None, 17)                2193      \n",
      "                                                                 \n",
      "=================================================================\n",
      "Total params: 17,928,273\n",
      "Trainable params: 3,213,585\n",
      "Non-trainable params: 14,714,688\n",
      "_________________________________________________________________\n"
     ]
    }
   ],
   "source": [
    "# view the structure of the model\n",
    "model.summary()"
   ]
  },
  {
   "cell_type": "code",
   "execution_count": 10,
   "metadata": {},
   "outputs": [],
   "source": [
    "# Compile model with categorical cross-entropy loss and Adam optimizer\n",
    "model.compile(loss='categorical_crossentropy',\n",
    "              optimizer='Adam',\n",
    "              metrics=['accuracy'])"
   ]
  },
  {
   "cell_type": "code",
   "execution_count": 11,
   "metadata": {},
   "outputs": [
    {
     "name": "stdout",
     "output_type": "stream",
     "text": [
      "Epoch 1/5\n",
      "375/375 [==============================] - 1533s 4s/step - loss: 1.1318 - accuracy: 0.6582 - val_loss: 0.8875 - val_accuracy: 0.7245\n",
      "Epoch 2/5\n",
      "375/375 [==============================] - 1658s 4s/step - loss: 0.6059 - accuracy: 0.8116 - val_loss: 0.8163 - val_accuracy: 0.7554\n",
      "Epoch 3/5\n",
      "375/375 [==============================] - 1610s 4s/step - loss: 0.4702 - accuracy: 0.8474 - val_loss: 0.9141 - val_accuracy: 0.7285\n",
      "Epoch 4/5\n",
      "375/375 [==============================] - 1599s 4s/step - loss: 0.3850 - accuracy: 0.8737 - val_loss: 0.7381 - val_accuracy: 0.7830\n",
      "Epoch 5/5\n",
      "375/375 [==============================] - 1598s 4s/step - loss: 0.3115 - accuracy: 0.8990 - val_loss: 0.7108 - val_accuracy: 0.7925\n"
     ]
    }
   ],
   "source": [
    "# fit the model\n",
    "r = model.fit(\n",
    "  training_set,\n",
    "  epochs=5,\n",
    "  validation_data=test_set\n",
    ")"
   ]
  },
  {
   "cell_type": "code",
   "execution_count": 12,
   "metadata": {},
   "outputs": [],
   "source": [
    "model.save_weights(\"vgg16.hdf5\")\n",
    "\n",
    "model.save('vgg16.h5')"
   ]
  },
  {
   "cell_type": "code",
   "execution_count": 26,
   "metadata": {},
   "outputs": [
    {
     "data": {
      "image/png": "[encoded data removed]",
      "text/plain": [
       "<Figure size 400x600 with 1 Axes>"
      ]
     },
     "metadata": {},
     "output_type": "display_data"
    }
   ],
   "source": [
    "# plot the loss\n",
    "\n",
    "import matplotlib.pyplot as plt\n",
    "\n",
    "fig = plt.figure(figsize=(4,6))\n",
    "plt.plot(range(1, len(r.history['loss'])+1), r.history['loss'], color='green')\n",
    "plt.plot(range(1, len(r.history['val_loss'])+1), r.history['val_loss'], color='red')\n",
    "plt.title('Model Loss Progress')\n",
    "plt.ylabel('Loss')\n",
    "plt.xlabel('Epoch')\n",
    "plt.legend(['Training Set', 'Validation Set'], loc='upper right')\n",
    "plt.savefig('loss.png', dpi=350, bbox_inches='tight')\n",
    "plt.show()\n"
   ]
  },
  {
   "cell_type": "code",
   "execution_count": 27,
   "metadata": {},
   "outputs": [
    {
     "data": {
      "image/png": "[encoded data removed]",
      "text/plain": [
       "<Figure size 400x600 with 1 Axes>"
      ]
     },
     "metadata": {},
     "output_type": "display_data"
    }
   ],
   "source": [
    "import matplotlib.pyplot as plt\n",
    "\n",
    "fig = plt.figure(figsize=(4,6))\n",
    "plt.plot(range(1, len(r.history['accuracy'])+1), r.history['accuracy'], color='green')\n",
    "plt.plot(range(1, len(r.history['val_accuracy'])+1), r.history['val_accuracy'], color='red')\n",
    "plt.title('Model Accuracy Progress')\n",
    "plt.ylabel('Accuracy')\n",
    "plt.xlabel('Epoch')\n",
    "plt.legend(['Training Set', 'Validation Set'], loc='upper left')\n",
    "plt.savefig('accuracy.png', dpi=350, bbox_inches='tight')\n",
    "plt.show()\n"
   ]
  },
  {
   "cell_type": "code",
   "execution_count": 30,
   "metadata": {},
   "outputs": [
    {
     "name": "stdout",
     "output_type": "stream",
     "text": [
      "Found 3986 images belonging to 17 classes.\n",
      "125/125 [==============================] - 376s 3s/step\n",
      "[[ 49   0   0   0   0   0   1   0   0   0   0   0   0   0   0   0   0]\n",
      " [  0 126  22   0   2   0   8   1   4   0   5   1   9   1   0   2   3]\n",
      " [  0   7 151   0   4   4   1   3   5   4   2  16  10   5   0   0   6]\n",
      " [  0   1   1 219   2   0   0   1  22   2   0   0   0   0   1   1   0]\n",
      " [  0   3   1   2 153   3   5   2  52   0   8   0   3   4   1   7   0]\n",
      " [  0   2   8   0  11 187   3   2  11   4   1   1   3   4   0  14   4]\n",
      " [  0   2   9   0  17   0 140   4   1   6   3   5  11  25   0   5   3]\n",
      " [  0   6   5   2  18   3   5 170  10   0   8   1   4   1   0   7   5]\n",
      " [  0   1   1  13   8   4   0   1 230   1   1   0   0   0   0   0   2]\n",
      " [  1   0  11   1   4   3   4   2   5 200   0   3   4   3   0   2   0]\n",
      " [  0   0   1   0   5   3   1   5   8   3 235   0   0   0   0   0   2]\n",
      " [  0   0  25   0   0   0   1   0   0   3   0 227   1   1   0   4   2]\n",
      " [  0   9   7   0   1   5   5   2   3   3   1   6 193   8   0   6  13]\n",
      " [  0   0   4   0   0   1   7   0   0   2   0   4   0 230   0   1   1]\n",
      " [  0   1   3   7  13   3   0   3  30   5   2   2   0   2 183   2   1]\n",
      " [  0   0   1   0   3   0   0   0   1   1   0   0   0   3   0 253   0]\n",
      " [  0   1   3   0   4   4   0   3   1   0   0   3   5   6   0   3 213]]\n"
     ]
    }
   ],
   "source": [
    "# Load the necessary libraries\n",
    "import numpy as np\n",
    "from keras.preprocessing.image import ImageDataGenerator\n",
    "from keras.models import load_model\n",
    "from sklearn.metrics import confusion_matrix\n",
    "\n",
    "# Set the path to the test data directory\n",
    "test_data_dir = 'valid'\n",
    "\n",
    "# Load the pre-trained VGG16 model\n",
    "model = load_model('vgg16.h5')\n",
    "\n",
    "# Set up the image data generator\n",
    "test_datagen = ImageDataGenerator(rescale=1./255)\n",
    "\n",
    "# Load the test data\n",
    "test_generator = test_datagen.flow_from_directory(\n",
    "    test_data_dir,\n",
    "    target_size=(224, 224),\n",
    "    batch_size=32,\n",
    "    class_mode='categorical',\n",
    "    shuffle=False\n",
    ")\n",
    "\n",
    "# Make predictions on the test data\n",
    "predictions = model.predict(test_generator)\n",
    "\n",
    "# Get the predicted classes\n",
    "predicted_classes = np.argmax(predictions, axis=1)\n",
    "\n",
    "# Get the true classes\n",
    "true_classes = test_generator.classes\n",
    "\n",
    "# Get the class labels\n",
    "class_labels = list(test_generator.class_indices.keys())\n",
    "\n",
    "# Generate the confusion matrix\n",
    "cm = confusion_matrix(true_classes, predicted_classes)\n",
    "\n",
    "# Print the confusion matrix\n",
    "print(cm)\n"
   ]
  },
  {
   "cell_type": "code",
   "execution_count": 33,
   "metadata": {},
   "outputs": [],
   "source": [
    "# Save the confusion matrix to a file\n",
    "np.savetxt('confusion_matrix.txt', cm, fmt='%d')"
   ]
  },
  {
   "cell_type": "code",
   "execution_count": 31,
   "metadata": {},
   "outputs": [
    {
     "name": "stdout",
     "output_type": "stream",
     "text": [
      "Found 3986 images belonging to 17 classes.\n",
      "125/125 [==============================] - 307s 2s/step\n",
      "                  precision    recall  f1-score   support\n",
      "\n",
      "       aloe_vera       0.98      0.98      0.98        50\n",
      "         astilbe       0.79      0.68      0.73       184\n",
      "      bellflower       0.60      0.69      0.64       218\n",
      "black_eyed_susan       0.90      0.88      0.89       250\n",
      "       calendula       0.62      0.63      0.63       244\n",
      "california_poppy       0.85      0.73      0.79       255\n",
      "       carnation       0.77      0.61      0.68       231\n",
      "    common_daisy       0.85      0.69      0.77       245\n",
      "       coreopsis       0.60      0.88      0.71       262\n",
      "        daffodil       0.85      0.82      0.84       243\n",
      "       dandelion       0.88      0.89      0.89       263\n",
      "            iris       0.84      0.86      0.85       264\n",
      "        magnolia       0.79      0.74      0.76       262\n",
      "            rose       0.78      0.92      0.85       250\n",
      "       sunflower       0.99      0.71      0.83       257\n",
      "           tulip       0.82      0.97      0.89       262\n",
      "      water_lily       0.84      0.87      0.85       246\n",
      "\n",
      "        accuracy                           0.79      3986\n",
      "       macro avg       0.81      0.80      0.80      3986\n",
      "    weighted avg       0.80      0.79      0.79      3986\n",
      "\n"
     ]
    }
   ],
   "source": [
    "# Load the necessary libraries\n",
    "import numpy as np\n",
    "from keras.preprocessing.image import ImageDataGenerator\n",
    "from keras.models import load_model\n",
    "from sklearn.metrics import classification_report\n",
    "\n",
    "# Set the path to the test data directory\n",
    "test_data_dir = 'valid'\n",
    "\n",
    "# Load the pre-trained VGG16 model\n",
    "model = load_model('vgg16.h5')\n",
    "\n",
    "# Set up the image data generator\n",
    "test_datagen = ImageDataGenerator(rescale=1./255)\n",
    "\n",
    "# Load the test data\n",
    "test_generator = test_datagen.flow_from_directory(\n",
    "    test_data_dir,\n",
    "    target_size=(224, 224),\n",
    "    batch_size=32,\n",
    "    class_mode='categorical',\n",
    "    shuffle=False\n",
    ")\n",
    "\n",
    "# Make predictions on the test data\n",
    "predictions = model.predict(test_generator)\n",
    "\n",
    "# Get the predicted classes\n",
    "predicted_classes = np.argmax(predictions, axis=1)\n",
    "\n",
    "# Get the true classes\n",
    "true_classes = test_generator.classes\n",
    "\n",
    "# Get the class labels\n",
    "class_labels = list(test_generator.class_indices.keys())\n",
    "\n",
    "# Generate the classification report\n",
    "report = classification_report(true_classes, predicted_classes, target_names=class_labels)\n",
    "\n",
    "# Print the classification report\n",
    "print(report)\n"
   ]
  },
  {
   "cell_type": "code",
   "execution_count": 32,
   "metadata": {},
   "outputs": [],
   "source": [
    "# Save the classification report to a file\n",
    "with open('classification_report.txt', 'w') as f:\n",
    "    f.write(report)"
   ]
  },
  {
   "cell_type": "code",
   "execution_count": 34,
   "metadata": {},
   "outputs": [
    {
     "data": {
      "text/plain": [
       "{'aloe_vera': 0,\n",
       " 'astilbe': 1,\n",
       " 'bellflower': 2,\n",
       " 'black_eyed_susan': 3,\n",
       " 'calendula': 4,\n",
       " 'california_poppy': 5,\n",
       " 'carnation': 6,\n",
       " 'common_daisy': 7,\n",
       " 'coreopsis': 8,\n",
       " 'daffodil': 9,\n",
       " 'dandelion': 10,\n",
       " 'iris': 11,\n",
       " 'magnolia': 12,\n",
       " 'rose': 13,\n",
       " 'sunflower': 14,\n",
       " 'tulip': 15,\n",
       " 'water_lily': 16}"
      ]
     },
     "execution_count": 34,
     "metadata": {},
     "output_type": "execute_result"
    }
   ],
   "source": [
    "training_set.class_indices"
   ]
  },
  {
   "cell_type": "code",
   "execution_count": 42,
   "metadata": {},
   "outputs": [
    {
     "name": "stdout",
     "output_type": "stream",
     "text": [
      "1/1 [==============================] - 0s 122ms/step\n",
      "[[0. 0. 0. 0. 0. 0. 0. 0. 0. 0. 0. 0. 0. 1. 0. 0. 0.]]\n"
     ]
    }
   ],
   "source": [
    "import numpy as np\n",
    "from tensorflow.keras.preprocessing import image\n",
    "test_image = image.load_img('valid/rose/43042677621_d339ce15f8_c.jpg',target_size=(224,224))\n",
    "test_image = image.img_to_array(test_image)\n",
    "test_image = np.expand_dims(test_image,axis=0)\n",
    "result = model.predict(test_image)\n",
    "print(result)"
   ]
  },
  {
   "cell_type": "code",
   "execution_count": 43,
   "metadata": {},
   "outputs": [
    {
     "name": "stdout",
     "output_type": "stream",
     "text": [
      "Rose\n"
     ]
    }
   ],
   "source": [
    "if result[0][0]==1:\n",
    "    print('Aloe Vera')\n",
    "\n",
    "elif result[0][1]==1:\n",
    "    print('Astible')\n",
    "\n",
    "elif result[0][2]==1:\n",
    "    print('Bellflower')\n",
    "\n",
    "elif result[0][3]==1:\n",
    "    print('Black Eyed Susan')\n",
    "\n",
    "elif result[0][4]==1:\n",
    "    print('Calendula')\n",
    "\n",
    "elif result[0][5]==1:\n",
    "    print('California Poppy')\n",
    "\n",
    "elif result[0][6]==1:\n",
    "    print('Carnation')\n",
    "\n",
    "elif result[0][7]==1:\n",
    "    print('Common Daisy')\n",
    "\n",
    "elif result[0][8]==1:\n",
    "    print('Coreopsis')\n",
    "\n",
    "elif result[0][9]==1:\n",
    "    print('Daffodil')\n",
    "\n",
    "elif result[0][10]==1:\n",
    "    print('Dandelion')\n",
    "\n",
    "elif result[0][11]==1:\n",
    "    print('Iris')\n",
    "\n",
    "elif result[0][12]==1:\n",
    "    print('Magnolia')\n",
    "\n",
    "elif result[0][13]==1:\n",
    "    print('Rose')\n",
    "\n",
    "elif result[0][14]==1:\n",
    "    print('Sunflower')\n",
    "\n",
    "elif result[0][15]==1:\n",
    "    print('Tulip')\n",
    "\n",
    "elif result[0][16]==1:\n",
    "    print('Water Lily')"
   ]
  },
  {
   "cell_type": "code",
   "execution_count": 44,
   "metadata": {},
   "outputs": [
    {
     "name": "stderr",
     "output_type": "stream",
     "text": [
      "WARNING:absl:Found untraced functions such as _jit_compiled_convolution_op, _jit_compiled_convolution_op, _jit_compiled_convolution_op, _jit_compiled_convolution_op, _jit_compiled_convolution_op while saving (showing 5 of 13). These functions will not be directly callable after loading.\n"
     ]
    },
    {
     "name": "stdout",
     "output_type": "stream",
     "text": [
      "INFO:tensorflow:Assets written to: C:\\Users\\Dell\\AppData\\Local\\Temp\\tmp48i1r0ea\\assets\n"
     ]
    },
    {
     "name": "stderr",
     "output_type": "stream",
     "text": [
      "INFO:tensorflow:Assets written to: C:\\Users\\Dell\\AppData\\Local\\Temp\\tmp48i1r0ea\\assets\n"
     ]
    }
   ],
   "source": [
    "# Conversion of Tensorflow Model to tflite model\n",
    "\n",
    "import tensorflow as tf\n",
    "\n",
    "# Load the Keras model\n",
    "model = tf.keras.models.load_model('vgg16.h5')\n",
    "\n",
    "# Convert the Keras model to a TensorFlow Lite model\n",
    "converter = tf.lite.TFLiteConverter.from_keras_model(model)\n",
    "tflite_model = converter.convert()\n",
    "\n",
    "# Save the TensorFlow Lite model to a file\n",
    "with open('vgg16.tflite', 'wb') as f:\n",
    "    f.write(tflite_model)"
   ]
  }
 ],
 "metadata": {
  "kernelspec": {
   "display_name": "Python 3",
   "language": "python",
   "name": "python3"
  },
  "language_info": {
   "codemirror_mode": {
    "name": "ipython",
    "version": 3
   },
   "file_extension": ".py",
   "mimetype": "text/x-python",
   "name": "python",
   "nbconvert_exporter": "python",
   "pygments_lexer": "ipython3",
   "version": "3.10.9"
  },
  "orig_nbformat": 4
 },
 "nbformat": 4,
 "nbformat_minor": 2
}
